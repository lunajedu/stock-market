{
 "cells": [
  {
   "cell_type": "markdown",
   "metadata": {},
   "source": [
    "Baixar dados do B3.\n",
    "Para isso usarei a API de Yahoo finance, já que a API oficial de B3 não está liberada de maneira gratuita. O objetivo é criar uma base de dados\n",
    "que pode ser em diferentes formatos para analisar as tendências do mercado geral de valores em relação ao setor industrial escolhido.\n",
    "Primeiro importarei as librarias a usar durante toda a execução do código. Depois baixarei os dados disponíveis das empresas que cotizam em bolsa no\n",
    "Brasil e tentarei fazer algumas análises.\n",
    "Todas as librarias serão instaladas num ambiente virtual de Python para manter as boas práticas."
   ]
  },
  {
   "cell_type": "markdown",
   "metadata": {},
   "source": [
    "Criando o ambiente virtual.\n",
    "Executar os seguintes comandos na consola:\n",
    "\n",
    "python -m venv .venv\n",
    "\n",
    ".venv\\Scripts\\Activate\n",
    "\n",
    "O Kernel de execução deste notebook deve ser configurado para usar o ambiente virtual antes de executar os códigos."
   ]
  },
  {
   "cell_type": "markdown",
   "metadata": {},
   "source": []
  },
  {
   "cell_type": "code",
   "execution_count": 2,
   "metadata": {},
   "outputs": [],
   "source": [
    "# Librarias\n",
    "import yfinance as yf\n",
    "import pandas as pd\n",
    "import investpy as inv\n",
    "import sqlite3"
   ]
  },
  {
   "cell_type": "code",
   "execution_count": 117,
   "metadata": {},
   "outputs": [
    {
     "name": "stdout",
     "output_type": "stream",
     "text": [
      "['ABCB4', 'AGRO3', 'RAIL3', 'ALPA3', 'ALPA4', 'ALSO3', 'AMAR3', 'ABEV3', 'ADHM3', 'ARZZ3', 'BBAS3', 'BBDC3', 'BBDC4', 'BBRK3', 'BEEF3', 'BPHA3', 'BPAN4', 'BRAP3', 'BRAP4', 'BRFS3', 'APER3', 'BRKM3', 'BRKM5', 'BRML3', 'BRPR3', 'BRSR6', 'OIBR3', 'OIBR4', 'BTOW3', 'B3SA3', 'CAMB4', 'CARD3', 'CCPR3', 'CCRO3', 'CEDO4', 'CEED3', 'CESP6', 'CGAS5', 'CGRA4', 'CIEL3', 'CMIG3', 'CMIG4', 'COCE5', 'CPFE3', 'CPLE3', 'CPLE6', 'CRDE3', 'CSAN3', 'CSMG3', 'CSNA3', 'LIQO3', 'CTNM4', 'CYRE3', 'DASA3', 'DIRR3', 'DTEX3', 'ECOR3', 'EEEL3', 'ELEK4', 'ELET3', 'ELET6', 'EMBR3', 'ENBR3', 'ENGI4', 'EQTL3', 'YDUQ3', 'ETER3', 'EUCA4', 'EVEN3', 'EZTC3', 'FESA4', 'FHER3', 'TASA4', 'FLRY3', 'FRIO3', 'TIET3', 'TIET4', 'GFSA3', 'GGBR3', 'GGBR4', 'GOAU3', 'GOAU4', 'GOLL4', 'GRND3', 'GSHP3', 'HBOR3', 'HGTX3', 'PRIO3', 'HYPE3', 'IDNT3', 'IDVL4', 'IGTA3', 'MEAL3', 'INEP3', 'INEP4', 'ITSA3', 'ITSA4', 'ITUB3', 'ITUB4', 'JBSS3', 'JFEN3', 'JHSF3', 'JSLG3', 'KEPL3', 'KLBN4', 'LAME3', 'LAME4', 'LEVE3', 'LIGT3', 'LLIS3', 'LOGN3', 'LPSB3', 'LREN3', 'LUPA3', 'MDIA3', 'MGEL4', 'MGLU3', 'MILS3', 'MMXM3', 'ENEV3', 'MRFG3', 'MRVE3', 'MTIG4', 'MULT3', 'MYPK3', 'NATU3', 'ODPV3', 'OSXB3', 'PCAR4', 'PDGR3', 'PETR3', 'PETR4', 'PFRM3', 'PINE4', 'PLAS3', 'PMAM3', 'POMO3', 'POMO4', 'POSI3', 'PSSA3', 'PTBL3', 'PTNT4', 'ENAT3', 'QUAL3', 'RAPT3', 'RAPT4', 'RDNI3', 'RENT3', 'FRTA3', 'RNEW11', 'ROMI3', 'RSID3', 'SANB11', 'SBSP3', 'SCAR3', 'SGPS3', 'SHOW3', 'SLCE3', 'SLED4', 'SMTO3', 'SULA11', 'EGIE3', 'TCSA3', 'TECN3', 'TEKA4', 'TGMA3', 'TIMP3', 'TOTS3', 'TPIS3', 'TRIS3', 'TAEE11', 'TRPL4', 'TRPN3', 'UGPA3', 'UNIP3', 'UNIP6', 'USIM3', 'USIM5', 'TESA3', 'VALE3', 'VIVR3', 'VIVT3', 'VIVT4', 'VLID3', 'WEGE3', 'BRSR5', 'CESP5', 'ELPL3', 'SANB4', 'STBP3', 'CCXC3', 'CESP3', 'CGRA3', 'CLSC4', 'COCE3', 'TASA3', 'COGN3', 'LCAM3', 'RADL3', 'UCAS3', 'ALUP11', 'ANIM3', 'BBSE3', 'BSEV3', 'CPRE3', 'CVCB3', 'LINX3', 'SEER3', 'SMLS3', 'TUPY3', 'SQIA3', 'BIOM3', 'KLBN11', 'NUTR3', 'BAZA3', 'HGBS11', 'HGPO11', 'MBRF11', 'TCNO3', 'ABCP11', 'RBED11', 'BBPO11', 'BBRC11', 'BBVJ11', 'BPFF11', 'BRCR11', 'CTXT11', 'CXTL11', 'EURO11', 'RCRB11', 'FIGS11', 'FIXX11', 'FLMA11', 'FPAB11', 'HMOC11', 'HGCR11', 'HGLG11', 'HGRE11', 'JSRE11', 'KNCR11', 'KNRE11', 'KNRI11', 'MXRF11', 'ONEF11', 'PQDP11', 'PRSV11', 'RBBV11', 'RBCB11', 'RBGS11', 'RBRD11', 'RBVO11', 'RDES11', 'RNDP11', 'RNGO11', 'SAAG11', 'SDIL11', 'SHPH11', 'SPTW11', 'TBOF11', 'TRXL11', 'VLOL11', 'VRTA11', 'XPCM11', 'XTED11', 'SANB3', 'SEDU3', 'FRAS3', 'GEPA4', 'OFSA3', 'RLOG3', 'TOYB3', 'AAPL34', 'ABTT34', 'AMGN34', 'AMZO34', 'ARMT34', 'ATTB34', 'AXPB34', 'BERK34', 'BOAC34', 'CATP34', 'CMCS34', 'COCA34', 'CSCO34', 'DISB34', 'EXXO34', 'FDMO34', 'GEOO34', 'GSGI34', 'HALI34', 'HOME34', 'HPQB34', 'ITLC34', 'JNJB34', 'JPMC34', 'LMTB34', 'MMMC34', 'MRCK34', 'MSCD34', 'MSFT34', 'NIKE34', 'ORCL34', 'PFIZ34', 'PGCO34', 'SBUB34', 'VERZ34', 'VISA34', 'WALM34', 'WFCO34', 'WIZS3', 'BOEI34', 'CHVX34', 'COPH34', 'CTGP34', 'FBOK34', 'IBMB34', 'LILY34', 'MCDC34', 'MFII11', 'MSBR34', 'NFLX34', 'PEPB34', 'SLBG34', 'UPSS34', 'USBC34', 'GUAR3', 'ACNB34', 'BONY34', 'DHER34', 'IGBR3', 'KMBB34', 'METB34', 'TELB4', 'TGTB34', 'WHRL3', 'AVON34', 'BMYB34', 'COLG34', 'COTY34', 'EBAY34', 'FCXO34', 'FDXB34', 'GDBR34', 'HSHY34', 'MDLZ34', 'MOSC34', 'QCOM34', 'TEXA34', 'TIFF34', 'UTEC34', 'WUNI34', 'XRXB34', 'SHUL4', 'ATOM3', 'KHCB34', 'TIET11', 'SAPR4', 'CRIV4', 'RPMG3', 'BRSR3', 'DOMC11', 'ENGI11', 'SNSY5', 'DMMO3', 'ABCB10', 'ANIM3T', 'AZEV4', 'BAHI3', 'BALM4', 'BAUH4', 'BDLL4', 'BEES3', 'BEES4', 'BGIP4', 'BMEB3', 'BMEB4', 'BMIN3', 'BMIN4', 'BMKS3', 'BNBR3', 'BOBR4', 'BRIV3', 'BRIV4', 'BSLI4', 'BTTL3', 'CBEE3', 'CEEB3', 'CEEB5', 'CELP3', 'CELP5', 'CEPE5', 'CGAS3', 'CPRE3T', 'CRIV3', 'CRPG5', 'CRPG6', 'CSRN3', 'CTKA4', 'CTNM3', 'CTSA3', 'CTSA4', 'CVCB3T', 'DOHL4', 'DTCY3', 'EALT4', 'EKTR4', 'ELEK3', 'EMAE4', 'ENGI3', 'ENMT3', 'ESTR4', 'FESA3', 'FNAM11', 'FSRF11', 'GPCP3', 'HAGA4', 'HBTS5', 'HETA4', 'HOOT4', 'IDVL3', 'JBDU3', 'JBDU4', 'JOPA3', 'JOPA4', 'KLBN3', 'MEND5', 'MNDL3', 'MNPR3', 'MTSA4', 'MWET4', 'DMMO3T', 'PEAB4', 'PNVL3', 'PNVL4', 'RANI3', 'RANI4', 'RCSL3', 'RCSL4', 'REDE3', 'RPAD5', 'RPAD6', 'SEER3T', 'WLMM3', 'WLMM4', 'SLED3', 'SMLS3T', 'SOND5', 'SOND6', 'SPRI3', 'TCNO4', 'TELB3', 'TOYB4', 'TRPL3', 'UNIP5', 'USIM6', 'VULC3', 'VVAR3', 'WHRL4', 'ALMI11', 'ANCR11B', 'ATSA11B', 'BBFI11B', 'BCFF11', 'BMLC11B', 'CEOC11', 'CNES11', 'MRSA6BF', 'CPTS11B', 'CXCE11B', 'DRIT11B', 'EDFO11B', 'EDGA11', 'ENMA3B', 'FAED11', 'FAMB11B', 'FCFL11', 'FEXC11', 'FIIP11B', 'FLRP11', 'FVBI11', 'HCRI11', 'HTMX11', 'JRDM11', 'MAXR11', 'NSLU11', 'TRNT11', 'WPLZ11B', 'ARNC34', 'ABBV34', 'BBYY34', 'BCRI11', 'BIIB34', 'BLAK34', 'CHKE34', 'COWC34', 'CTSH34', 'CVSH34', 'CXRI11', 'DEAI34', 'FSLR34', 'GILD34', 'GOGL34', 'GOGL35', 'GPSI34', 'JCPC34', 'MACY34', 'MDTC34', 'RIGG34', 'ROST34', 'SANC34', 'SCHW34', 'SPRN34', 'SSFO34', 'TMOS34', 'TRVC34', 'USSX34', 'VLOE34', 'WSON33', 'AALR3', 'AFLT3', 'BGIP3', 'BNFS11', 'CBOP11', 'CEBR3', 'CEDO3', 'ESUD11', 'ESUT11', 'FIIB11', 'FIVN11', 'FMOF11', 'FNOR11', 'FSPE11', 'FSTU11', 'GPAR3', 'GRLV11', 'MAPT3', 'MMXM11', 'PABY11', 'PATI4', 'PLRI11', 'PORD11', 'RBDS11', 'RPAD3', 'SCPF11', 'VSPT3', 'XPOM11', 'POMO10', 'AIGB34', 'DUKB34', 'MOVI3', 'PARD3', 'BPAC11', 'PPLA11', 'AALL34', 'GMCO34', 'LBRN34', 'TWTR34', 'UPAC34', 'RNEW3', 'RNEW4', 'AZUL4', 'KNIP11', 'TEND3', 'TSLA34', 'CRFB3', 'GBIO33', 'OMGE3', 'IRBR3', 'GGRC11', 'GEPA3', 'SAPR3', 'CAML3', 'VISC11', 'SUZB3', 'SAPR11', 'BRDT3', 'NEOE3', 'BKBR3', 'FMXB34', 'CLGN34', 'HONB34', 'ALZR11', 'GFSA1', 'DDNB34', 'UBSG34', 'TXRX4', 'OUJP11', 'BCIA11', 'BOXP34', 'GPRO34', 'MSPA3', 'HFOF11', 'RBRF11', 'HAPV3', 'GNDI3', 'BIDI4', 'JPSA3', 'GPIV33', 'IRDM11', 'FOFT11', 'THRA11', 'TAEE4', 'BIDI4T', 'XPLG11', 'RBRR11', 'WPLZ11', 'MGFF11', 'TGAR11', 'HGRU11', 'ALUP3', 'ALUP4', 'LOGG3', 'KNHY11', 'OUCY11', 'FVPQ11', 'TASA13', 'TASA15', 'TASA17', 'CARE11', 'TAEE3', 'XPIN11', 'VSHO11', 'DMMO11', 'AZEV3', 'AHEB3', 'BALM3', 'BPAC3', 'EALT3', 'ECPR3', 'HAGA3', 'ITEC3', 'LIPR3', 'PATI3', 'PEAB3', 'SULA3', 'BPAC5', 'BRGE11', 'BRGE12', 'BRGE6', 'CELP6', 'CELP7', 'CORR4', 'EEEL4', 'ENMT4', 'LUXM4', 'MEND6', 'MERC4', 'RSUL4', 'SULA4', 'BEEF11', 'JBDU1', 'JBDU2', 'LOGN12', 'MYPK12', 'PATC11', 'BBDC3', 'VGIR11', 'VILG11', 'CNTO3', 'BTCR11', 'VAMO3', 'CAMB10', 'IDVL9', 'MELI34', 'MOAR3', 'RBVA11', 'MRSA3B', 'VTLT11', 'GTWR11', 'BIDI11', 'BIDI3', 'DMAC11', 'TFOF11', 'HCTR11', 'TIET2', 'HSML11', 'XPHT11', 'XPHT12', 'HABT11', 'RECT11', 'AQLL11', 'ARFI11B', 'ATCR11', 'BARI11', 'BBIM11', 'BMII11', 'BPRP11', 'BRHT11B', 'BVAR11', 'DAMT11B', 'DOVL11B', 'ELDO11B', 'ERPA11', 'FINF11', 'FISC11', 'FISD11', 'FPNG11', 'FTCE11B', 'GESE11B', 'HBTT11', 'HGFF11', 'HUSC11', 'JPPC11', 'KINP11', 'LATR11B', 'NCHB11', 'NPAR11', 'NVHO11', 'NVIF11B', 'ORPD11', 'OULG11B', 'PBLV11', 'PRSN11B', 'PRTS11', 'RBCO11', 'RBFF11', 'RBRP11', 'RBRY11', 'RCFA11', 'RCRI11B', 'RDPD11', 'REIT11', 'SADI11', 'SAIC11B', 'SFND11', 'SHDP11B', 'SHOP11', 'SPAF11', 'STRX11', 'TCR11', 'TORM13', 'TOUR11', 'TSNC11', 'VERE11', 'VLJS11', 'VPSI11', 'WTSP11B', 'YCHY11', 'VIVA3', 'CEAB3', 'BMGB11', 'BMGB4', 'SDIP11', 'RBCO11', 'IBFF11', 'CVBI11', 'HRDF11', 'RSPD11', 'TCPF11']\n"
     ]
    }
   ],
   "source": [
    "brazilian_companies = inv.stocks.get_stocks(country='brazil')\n",
    "\n",
    "companies_list = []\n",
    "\n",
    "for company in brazilian_companies['symbol']:\n",
    "    companies_list.append(company)\n",
    "\n",
    "print(companies_list)\n",
    "\n",
    "brazilian_companies.to_csv(\"./datasets/companies.csv\", index=False)"
   ]
  },
  {
   "cell_type": "markdown",
   "metadata": {},
   "source": [
    "Consultamos os dados de todas as empressas à API trazendo os dados que sejam de interesse e criamos uma tabela"
   ]
  },
  {
   "cell_type": "code",
   "execution_count": 116,
   "metadata": {},
   "outputs": [
    {
     "name": "stderr",
     "output_type": "stream",
     "text": [
      "404 Client Error: Not Found for url: https://query2.finance.yahoo.com/v10/finance/quoteSummary/ALSO3.SA?modules=financialData%2CquoteType%2CdefaultKeyStatistics%2CassetProfile%2CsummaryDetail&corsDomain=finance.yahoo.com&formatted=false&symbol=ALSO3.SA&crumb=G.%2FIocXJAHT\n",
      "404 Client Error: Not Found for url: https://query2.finance.yahoo.com/v10/finance/quoteSummary/ENBR3.SA?modules=financialData%2CquoteType%2CdefaultKeyStatistics%2CassetProfile%2CsummaryDetail&corsDomain=finance.yahoo.com&formatted=false&symbol=ENBR3.SA&crumb=G.%2FIocXJAHT\n",
      "404 Client Error: Not Found for url: https://query2.finance.yahoo.com/v10/finance/quoteSummary/SQIA3.SA?modules=financialData%2CquoteType%2CdefaultKeyStatistics%2CassetProfile%2CsummaryDetail&corsDomain=finance.yahoo.com&formatted=false&symbol=SQIA3.SA&crumb=G.%2FIocXJAHT\n",
      "404 Client Error: Not Found for url: https://query2.finance.yahoo.com/v10/finance/quoteSummary/CELP6.SA?modules=financialData%2CquoteType%2CdefaultKeyStatistics%2CassetProfile%2CsummaryDetail&corsDomain=finance.yahoo.com&formatted=false&symbol=CELP6.SA&crumb=G.%2FIocXJAHT\n",
      "404 Client Error: Not Found for url: https://query2.finance.yahoo.com/v10/finance/quoteSummary/JBDU1.SA?modules=financialData%2CquoteType%2CdefaultKeyStatistics%2CassetProfile%2CsummaryDetail&corsDomain=finance.yahoo.com&formatted=false&symbol=JBDU1.SA&crumb=G.%2FIocXJAHT\n",
      "404 Client Error: Not Found for url: https://query2.finance.yahoo.com/v10/finance/quoteSummary/JBDU2.SA?modules=financialData%2CquoteType%2CdefaultKeyStatistics%2CassetProfile%2CsummaryDetail&corsDomain=finance.yahoo.com&formatted=false&symbol=JBDU2.SA&crumb=G.%2FIocXJAHT\n",
      "404 Client Error: Not Found for url: https://query2.finance.yahoo.com/v10/finance/quoteSummary/IDVL9.SA?modules=financialData%2CquoteType%2CdefaultKeyStatistics%2CassetProfile%2CsummaryDetail&corsDomain=finance.yahoo.com&formatted=false&symbol=IDVL9.SA&crumb=G.%2FIocXJAHT\n",
      "404 Client Error: Not Found for url: https://query2.finance.yahoo.com/v10/finance/quoteSummary/TIET2.SA?modules=financialData%2CquoteType%2CdefaultKeyStatistics%2CassetProfile%2CsummaryDetail&corsDomain=finance.yahoo.com&formatted=false&symbol=TIET2.SA&crumb=G.%2FIocXJAHT\n",
      "404 Client Error: Not Found for url: https://query2.finance.yahoo.com/v10/finance/quoteSummary/TCR11.SA?modules=financialData%2CquoteType%2CdefaultKeyStatistics%2CassetProfile%2CsummaryDetail&corsDomain=finance.yahoo.com&formatted=false&symbol=TCR11.SA&crumb=G.%2FIocXJAHT\n"
     ]
    }
   ],
   "source": [
    "company_id = []\n",
    "shortName = []\n",
    "longName = []\n",
    "industry = []\n",
    "industryKey = []\n",
    "symbol = []\n",
    "sector = []\n",
    "sectorKey = []\n",
    "\n",
    "\n",
    "for company in companies_list:\n",
    "    if len(company) <= 5:\n",
    "        company_id.append(company)\n",
    "        company += \".SA\"\n",
    "        data = yf.Ticker(company)\n",
    "        industry.append(data.info.get('industry'))\n",
    "        industryKey.append(data.info.get('industryKey'))\n",
    "        sector.append(data.info.get('sector'))\n",
    "        sectorKey.append(data.info.get('sectorKey'))\n",
    "        symbol.append(data.info.get('symbol'))\n",
    "        shortName.append(data.info.get('shortName'))\n",
    "        longName.append(data.info.get('longName'))\n",
    "\n",
    "    \n",
    "general_data = {\n",
    "    \"company_id\": company_id,\n",
    "    \"shortName\": shortName,\n",
    "    \"longName\": longName,\n",
    "    \"industry\": industry,\n",
    "    \"industryKey\": industryKey,\n",
    "    \"sector\": sector,\n",
    "    \"sectorKey\": sectorKey,\n",
    "    \"symbolWithSa\": symbol\n",
    "}\n",
    "\n",
    "df = pd.DataFrame(general_data)\n",
    "\n",
    "df.to_csv(\"./datasets/general_data.csv\", index=False)\n"
   ]
  },
  {
   "cell_type": "code",
   "execution_count": 112,
   "metadata": {},
   "outputs": [
    {
     "name": "stderr",
     "output_type": "stream",
     "text": [
      "404 Client Error: Not Found for url: https://query2.finance.yahoo.com/v10/finance/quoteSummary/ALSO3.SA?modules=financialData%2CquoteType%2CdefaultKeyStatistics%2CassetProfile%2CsummaryDetail&corsDomain=finance.yahoo.com&formatted=false&symbol=ALSO3.SA&crumb=G.%2FIocXJAHT\n",
      "404 Client Error: Not Found for url: https://query2.finance.yahoo.com/v10/finance/quoteSummary/ENBR3.SA?modules=financialData%2CquoteType%2CdefaultKeyStatistics%2CassetProfile%2CsummaryDetail&corsDomain=finance.yahoo.com&formatted=false&symbol=ENBR3.SA&crumb=G.%2FIocXJAHT\n",
      "404 Client Error: Not Found for url: https://query2.finance.yahoo.com/v10/finance/quoteSummary/SQIA3.SA?modules=financialData%2CquoteType%2CdefaultKeyStatistics%2CassetProfile%2CsummaryDetail&corsDomain=finance.yahoo.com&formatted=false&symbol=SQIA3.SA&crumb=G.%2FIocXJAHT\n",
      "404 Client Error: Not Found for url: https://query2.finance.yahoo.com/v10/finance/quoteSummary/CELP6.SA?modules=financialData%2CquoteType%2CdefaultKeyStatistics%2CassetProfile%2CsummaryDetail&corsDomain=finance.yahoo.com&formatted=false&symbol=CELP6.SA&crumb=G.%2FIocXJAHT\n",
      "404 Client Error: Not Found for url: https://query2.finance.yahoo.com/v10/finance/quoteSummary/JBDU1.SA?modules=financialData%2CquoteType%2CdefaultKeyStatistics%2CassetProfile%2CsummaryDetail&corsDomain=finance.yahoo.com&formatted=false&symbol=JBDU1.SA&crumb=G.%2FIocXJAHT\n",
      "404 Client Error: Not Found for url: https://query2.finance.yahoo.com/v10/finance/quoteSummary/JBDU2.SA?modules=financialData%2CquoteType%2CdefaultKeyStatistics%2CassetProfile%2CsummaryDetail&corsDomain=finance.yahoo.com&formatted=false&symbol=JBDU2.SA&crumb=G.%2FIocXJAHT\n",
      "404 Client Error: Not Found for url: https://query2.finance.yahoo.com/v10/finance/quoteSummary/IDVL9.SA?modules=financialData%2CquoteType%2CdefaultKeyStatistics%2CassetProfile%2CsummaryDetail&corsDomain=finance.yahoo.com&formatted=false&symbol=IDVL9.SA&crumb=G.%2FIocXJAHT\n",
      "404 Client Error: Not Found for url: https://query2.finance.yahoo.com/v10/finance/quoteSummary/TIET2.SA?modules=financialData%2CquoteType%2CdefaultKeyStatistics%2CassetProfile%2CsummaryDetail&corsDomain=finance.yahoo.com&formatted=false&symbol=TIET2.SA&crumb=G.%2FIocXJAHT\n",
      "404 Client Error: Not Found for url: https://query2.finance.yahoo.com/v10/finance/quoteSummary/TCR11.SA?modules=financialData%2CquoteType%2CdefaultKeyStatistics%2CassetProfile%2CsummaryDetail&corsDomain=finance.yahoo.com&formatted=false&symbol=TCR11.SA&crumb=G.%2FIocXJAHT\n"
     ]
    }
   ],
   "source": [
    "company_id = []\n",
    "marketCap = []\n",
    "currentPrice = []\n",
    "targetHighPrice = []\n",
    "targetLowPrice = []\n",
    "targetMedianPrice = []\n",
    "totalCash = []\n",
    "currency = []\n",
    "recommendationMean = []\n",
    "recommendationKey = []\n",
    "boardRisk = []\n",
    "auditRisk = []\n",
    "\n",
    "for company in companies_list:\n",
    "    if len(company) <= 5:\n",
    "        company_id.append(company)\n",
    "        company += \".SA\"\n",
    "        data = yf.Ticker(company)\n",
    "        marketCap.append(data.info.get('marketCap'))\n",
    "        currentPrice.append(data.info.get('currentPrice'))\n",
    "        targetHighPrice.append(data.info.get('targetHighPrice'))\n",
    "        targetLowPrice.append(data.info.get('targetLowPrice'))\n",
    "        targetMedianPrice.append(data.info.get('targetMedianPrice'))\n",
    "        totalCash.append(data.info.get('totalCash'))\n",
    "        currency.append(data.info.get('currency'))\n",
    "        recommendationMean.append(data.info.get('recommendationMean'))\n",
    "        recommendationKey.append(data.info.get('recommendationKey'))\n",
    "        boardRisk.append(data.info.get('boardRisk'))\n",
    "        auditRisk.append(data.info.get('auditRisk'))\n",
    "\n",
    "financial_data = {\n",
    "    \"company_id\": company_id,\n",
    "    \"marketCap\": marketCap,\n",
    "    \"currentPrice\": currentPrice,\n",
    "    \"targetHighPrice\": targetHighPrice,\n",
    "    \"targetLowPrice\": targetLowPrice,\n",
    "    \"targetMedianPrice\": targetMedianPrice,\n",
    "    \"totalCash\": totalCash,\n",
    "    \"currency\": currency,\n",
    "    \"recommendationMean\": recommendationMean,\n",
    "    \"recommendationKey\": recommendationKey,\n",
    "    \"boardRisk\": boardRisk,\n",
    "    \"auditRisk\": auditRisk,\n",
    "}\n",
    "\n",
    "df = pd.DataFrame(financial_data)\n",
    "\n",
    "df.to_csv(\"./datasets/financial_data.csv\", index=False)"
   ]
  },
  {
   "cell_type": "code",
   "execution_count": 118,
   "metadata": {},
   "outputs": [
    {
     "name": "stderr",
     "output_type": "stream",
     "text": [
      "404 Client Error: Not Found for url: https://query2.finance.yahoo.com/v10/finance/quoteSummary/ALSO3.SA?modules=financialData%2CquoteType%2CdefaultKeyStatistics%2CassetProfile%2CsummaryDetail&corsDomain=finance.yahoo.com&formatted=false&symbol=ALSO3.SA&crumb=G.%2FIocXJAHT\n",
      "404 Client Error: Not Found for url: https://query2.finance.yahoo.com/v10/finance/quoteSummary/ENBR3.SA?modules=financialData%2CquoteType%2CdefaultKeyStatistics%2CassetProfile%2CsummaryDetail&corsDomain=finance.yahoo.com&formatted=false&symbol=ENBR3.SA&crumb=G.%2FIocXJAHT\n",
      "404 Client Error: Not Found for url: https://query2.finance.yahoo.com/v10/finance/quoteSummary/SQIA3.SA?modules=financialData%2CquoteType%2CdefaultKeyStatistics%2CassetProfile%2CsummaryDetail&corsDomain=finance.yahoo.com&formatted=false&symbol=SQIA3.SA&crumb=G.%2FIocXJAHT\n",
      "404 Client Error: Not Found for url: https://query2.finance.yahoo.com/v10/finance/quoteSummary/CELP6.SA?modules=financialData%2CquoteType%2CdefaultKeyStatistics%2CassetProfile%2CsummaryDetail&corsDomain=finance.yahoo.com&formatted=false&symbol=CELP6.SA&crumb=G.%2FIocXJAHT\n",
      "404 Client Error: Not Found for url: https://query2.finance.yahoo.com/v10/finance/quoteSummary/JBDU1.SA?modules=financialData%2CquoteType%2CdefaultKeyStatistics%2CassetProfile%2CsummaryDetail&corsDomain=finance.yahoo.com&formatted=false&symbol=JBDU1.SA&crumb=G.%2FIocXJAHT\n",
      "404 Client Error: Not Found for url: https://query2.finance.yahoo.com/v10/finance/quoteSummary/JBDU2.SA?modules=financialData%2CquoteType%2CdefaultKeyStatistics%2CassetProfile%2CsummaryDetail&corsDomain=finance.yahoo.com&formatted=false&symbol=JBDU2.SA&crumb=G.%2FIocXJAHT\n",
      "404 Client Error: Not Found for url: https://query2.finance.yahoo.com/v10/finance/quoteSummary/IDVL9.SA?modules=financialData%2CquoteType%2CdefaultKeyStatistics%2CassetProfile%2CsummaryDetail&corsDomain=finance.yahoo.com&formatted=false&symbol=IDVL9.SA&crumb=G.%2FIocXJAHT\n",
      "404 Client Error: Not Found for url: https://query2.finance.yahoo.com/v10/finance/quoteSummary/TIET2.SA?modules=financialData%2CquoteType%2CdefaultKeyStatistics%2CassetProfile%2CsummaryDetail&corsDomain=finance.yahoo.com&formatted=false&symbol=TIET2.SA&crumb=G.%2FIocXJAHT\n",
      "404 Client Error: Not Found for url: https://query2.finance.yahoo.com/v10/finance/quoteSummary/TCR11.SA?modules=financialData%2CquoteType%2CdefaultKeyStatistics%2CassetProfile%2CsummaryDetail&corsDomain=finance.yahoo.com&formatted=false&symbol=TCR11.SA&crumb=G.%2FIocXJAHT\n"
     ]
    }
   ],
   "source": [
    "company_id = []\n",
    "previousClose = []\n",
    "open = []\n",
    "dayLow = []\n",
    "dayHigh = []\n",
    "regularMarketPreviousClose = []\n",
    "regularMarketOpen = []\n",
    "regularMarketDayLow = []\n",
    "regularMarketDayHigh = []\n",
    "\n",
    "for company in companies_list:\n",
    "    if len(company) <= 5:\n",
    "        company_id.append(company)\n",
    "        company += \".SA\"\n",
    "        data = yf.Ticker(company)\n",
    "        previousClose.append(data.info.get('previousClose'))\n",
    "        open.append(data.info.get('open'))\n",
    "        dayLow.append(data.info.get('dayLow'))\n",
    "        dayHigh.append(data.info.get('dayHigh'))\n",
    "        regularMarketPreviousClose.append(data.info.get('regularMarketPreviousClose'))\n",
    "        regularMarketOpen.append(data.info.get('regularMarketOpen'))\n",
    "        regularMarketDayLow.append(data.info.get('regularMarketDayLow'))\n",
    "        regularMarketDayHigh.append(data.info.get('regularMarketDayHigh'))\n",
    "\n",
    "stock_prices = {\n",
    "    \"company_id\": company_id,\n",
    "    \"previousClose\": previousClose,\n",
    "    \"open\": open,\n",
    "    \"dayLow\": dayLow,\n",
    "    \"dayHigh\": dayHigh,\n",
    "    \"regularMarketPreviousClose\": regularMarketPreviousClose,\n",
    "    \"regularMarketOpen\": regularMarketOpen,\n",
    "    \"regularMarketDayLow\": regularMarketDayLow,\n",
    "    \"regularMarketDayHigh\": regularMarketDayHigh,\n",
    "}\n",
    "\n",
    "df = pd.DataFrame(stock_prices)\n",
    "\n",
    "df.to_csv(\"./datasets/stock_prices.csv\", index=False)"
   ]
  },
  {
   "cell_type": "markdown",
   "metadata": {},
   "source": [
    "Por questões de centralização da informação e manipulação dos dados convertemos a tabela numa base de dados SQL.\n",
    "Como não trabalhamos com uma grande quantidade de tabelas relacionadas não precisamos criar restrições ou relações no banco de dados."
   ]
  },
  {
   "cell_type": "code",
   "execution_count": 108,
   "metadata": {},
   "outputs": [],
   "source": [
    "# Carregar os arquivos CSV para DataFrames pandas\n",
    "df1 = pd.read_csv('./datasets/companies.csv')\n",
    "df2 = pd.read_csv('./datasets/general_data.csv')\n",
    "df3 = pd.read_csv('./datasets/financial_data.csv')\n",
    "df4 = pd.read_csv('./datasets/stock_prices.csv')\n",
    "# Conectar-se ao banco de dados SQLite\n",
    "conn = sqlite3.connect('stock_market_br.db')\n",
    "\n",
    "# Salvar os DataFrames como tabelas no banco de dados SQLite\n",
    "df1.to_sql('companies', conn, if_exists='replace', index=False)\n",
    "df2.to_sql('general_data', conn, if_exists='replace', index=False)\n",
    "df3.to_sql('financial_data', conn, if_exists='replace', index=False)\n",
    "df3.to_sql('stock_prices', conn, if_exists='replace', index=False)\n",
    "\n",
    "# Fechar a conexão com o banco de dados\n",
    "conn.close()\n"
   ]
  },
  {
   "cell_type": "markdown",
   "metadata": {},
   "source": [
    "Pesquisa de dados da industria de minerais metálicos"
   ]
  },
  {
   "cell_type": "code",
   "execution_count": 125,
   "metadata": {},
   "outputs": [],
   "source": [
    "companies_list = [\n",
    "   \"AURA33.SA\",\n",
    "   \"BRAP4.SA\",\n",
    "   \"CBAV3.SA\",\n",
    "   \"CMIN3.SA\",\n",
    "   \"LTEL3B.SA\",\n",
    "   \"LTLA3B.SA\",\n",
    "   \"VALE3.SA\"\n",
    "]\n",
    "\n",
    "company_id = []\n",
    "symbol = []\n",
    "shortName = []\n",
    "longName = []\n",
    "industry = []\n",
    "industryKey = []\n",
    "sector = []\n",
    "sectorKey = []\n",
    "marketCap = []\n",
    "currentPrice = []\n",
    "targetHighPrice = []\n",
    "targetLowPrice = []\n",
    "targetMedianPrice = []\n",
    "totalCash = []\n",
    "currency = []\n",
    "recommendationMean = []\n",
    "recommendationKey = []\n",
    "boardRisk = []\n",
    "auditRisk = []\n",
    "previousClose = []\n",
    "open = []\n",
    "dayLow = []\n",
    "dayHigh = []\n",
    "regularMarketPreviousClose = []\n",
    "regularMarketOpen = []\n",
    "regularMarketDayLow = []\n",
    "regularMarketDayHigh = []\n",
    "\n",
    "for company in companies_list:\n",
    "\n",
    "   data = yf.Ticker(company)\n",
    "\n",
    "   industry.append(data.info.get('industry'))\n",
    "   industryKey.append(data.info.get('industryKey'))\n",
    "   sector.append(data.info.get('sector'))\n",
    "   sectorKey.append(data.info.get('sectorKey'))\n",
    "   shortName.append(data.info.get('shortName'))\n",
    "   longName.append(data.info.get('longName'))\n",
    "   marketCap.append(data.info.get('marketCap'))\n",
    "   currentPrice.append(data.info.get('currentPrice'))\n",
    "   targetHighPrice.append(data.info.get('targetHighPrice'))\n",
    "   targetLowPrice.append(data.info.get('targetLowPrice'))\n",
    "   targetMedianPrice.append(data.info.get('targetMedianPrice'))\n",
    "   totalCash.append(data.info.get('totalCash'))\n",
    "   currency.append(data.info.get('currency'))\n",
    "   recommendationMean.append(data.info.get('recommendationMean'))\n",
    "   recommendationKey.append(data.info.get('recommendationKey'))\n",
    "   boardRisk.append(data.info.get('boardRisk'))\n",
    "   auditRisk.append(data.info.get('auditRisk'))\n",
    "   previousClose.append(data.info.get('previousClose'))\n",
    "   open.append(data.info.get('open'))\n",
    "   dayLow.append(data.info.get('dayLow'))\n",
    "   dayHigh.append(data.info.get('dayHigh'))\n",
    "   regularMarketPreviousClose.append(data.info.get('regularMarketPreviousClose'))\n",
    "   regularMarketOpen.append(data.info.get('regularMarketOpen'))\n",
    "   regularMarketDayLow.append(data.info.get('regularMarketDayLow'))\n",
    "   regularMarketDayHigh.append(data.info.get('regularMarketDayHigh'))\n",
    "\n",
    "metal_mining_co = {\n",
    "    \"company_id\": companies_list,\n",
    "    \"shortName\": shortName,\n",
    "    \"longName\": longName,\n",
    "    \"industry\": industry,\n",
    "    \"industryKey\": industryKey,\n",
    "    \"sector\": sector,\n",
    "    \"sectorKey\": sectorKey,\n",
    "    \"marketCap\": marketCap,\n",
    "    \"currentPrice\": currentPrice,\n",
    "    \"targetHighPrice\": targetHighPrice,\n",
    "    \"targetLowPrice\": targetLowPrice,\n",
    "    \"targetMedianPrice\": targetMedianPrice,\n",
    "    \"totalCash\": totalCash,\n",
    "    \"currency\": currency,\n",
    "    \"recommendationMean\": recommendationMean,\n",
    "    \"recommendationKey\": recommendationKey,\n",
    "    \"boardRisk\": boardRisk,\n",
    "    \"auditRisk\": auditRisk,\n",
    "    \"previousClose\": previousClose,\n",
    "    \"open\": open,\n",
    "    \"dayLow\": dayLow,\n",
    "    \"dayHigh\": dayHigh,\n",
    "    \"regularMarketPreviousClose\": regularMarketPreviousClose,\n",
    "    \"regularMarketOpen\": regularMarketOpen,\n",
    "    \"regularMarketDayLow\": regularMarketDayLow,\n",
    "    \"regularMarketDayHigh\": regularMarketDayHigh,\n",
    "}\n",
    "\n",
    "df = pd.DataFrame(metal_mining_co)\n",
    "\n",
    "df.to_csv(\"./datasets/metal_mining_co.csv\", index=False)\n"
   ]
  },
  {
   "cell_type": "markdown",
   "metadata": {},
   "source": [
    "Baixar informação completa de empressas depois coloco isso num arquivo JSON"
   ]
  },
  {
   "cell_type": "code",
   "execution_count": 6,
   "metadata": {},
   "outputs": [
    {
     "name": "stdout",
     "output_type": "stream",
     "text": [
      "{'address1': 'Av. Brigadeiro Faria Lima', 'address2': '3400 Itaim Bibi', 'city': 'São Paulo', 'state': 'SP', 'zip': '04538-132', 'country': 'Brazil', 'phone': '55 11 3049 7100', 'website': 'https://ri.csnmineracao.com.br', 'industry': 'Steel', 'industryKey': 'steel', 'industryDisp': 'Steel', 'sector': 'Basic Materials', 'sectorKey': 'basic-materials', 'sectorDisp': 'Basic Materials', 'longBusinessSummary': 'CSN Mineração S.A. engages in the iron ore mining business in Brazil. The company operates Casa de Pedra and Engenho mines. It also operates a hydroelectric power plant. The company was founded in 1913 and is based in São Paulo, Brazil. CSN Mineração S.A. operates as a subsidiary of Companhia Siderúrgica Nacional.', 'fullTimeEmployees': 8019, 'companyOfficers': [{'maxAge': 1, 'name': 'Mr. Eneas Garcia Diniz', 'title': 'Superintendent Director', 'exercisedValue': 0, 'unexercisedValue': 0}, {'maxAge': 1, 'name': 'Mr. Pedro Barros Mercadante Oliva', 'age': 37, 'title': 'Financial & Investor Relations Director', 'yearBorn': 1986, 'exercisedValue': 0, 'unexercisedValue': 0}, {'maxAge': 1, 'name': 'Mr. Claudio Musso Velloso', 'title': 'Director of Operations', 'exercisedValue': 0, 'unexercisedValue': 0}, {'maxAge': 1, 'name': 'Mr. Otto Alexandre Levy Reis', 'title': 'Investment Director', 'exercisedValue': 0, 'unexercisedValue': 0}], 'maxAge': 86400, 'priceHint': 2, 'previousClose': 5.31, 'open': 5.31, 'dayLow': 5.21, 'dayHigh': 5.42, 'regularMarketPreviousClose': 5.31, 'regularMarketOpen': 5.31, 'regularMarketDayLow': 5.21, 'regularMarketDayHigh': 5.42, 'dividendRate': 0.78, 'dividendYield': 0.1463, 'exDividendDate': 1704153600, 'payoutRatio': 1.2187, 'beta': 1.35, 'trailingPE': 8.153847, 'forwardPE': 12.619048, 'volume': 14162000, 'regularMarketVolume': 14162000, 'averageVolume': 7400750, 'averageVolume10days': 10231250, 'averageDailyVolume10Day': 10231250, 'bid': 5.34, 'ask': 5.34, 'marketCap': 29072304128, 'fiftyTwoWeekLow': 4.02, 'fiftyTwoWeekHigh': 8.05, 'priceToSalesTrailing12Months': 1.5398118, 'fiftyDayAverage': 6.1672, 'twoHundredDayAverage': 5.5823, 'currency': 'BRL', 'enterpriseValue': 27622838272, 'profitMargins': 0.18902001, 'floatShares': 478266693, 'sharesOutstanding': 5485340160, 'heldPercentInsiders': 0.91280997, 'heldPercentInstitutions': 0.02168, 'impliedSharesOutstanding': 5485340160, 'bookValue': 1.95, 'priceToBook': 2.7179487, 'lastFiscalYearEnd': 1703980800, 'nextFiscalYearEnd': 1735603200, 'mostRecentQuarter': 1703980800, 'earningsQuarterlyGrowth': 0.559, 'netIncomeToCommon': 3568737024, 'trailingEps': 0.65, 'forwardEps': 0.42, 'pegRatio': -0.44, 'enterpriseToRevenue': 1.463, 'enterpriseToEbitda': 3.992, '52WeekChange': 0.12288141, 'SandP52WeekChange': 0.27393317, 'lastDividendValue': 0.079347, 'lastDividendDate': 1704153600, 'exchange': 'SAO', 'quoteType': 'EQUITY', 'symbol': 'CMIN3.SA', 'underlyingSymbol': 'CMIN3.SA', 'shortName': 'CSNMINERACAOON      N2', 'longName': 'CSN Mineração S.A.', 'firstTradeDateEpochUtc': 1613998800, 'timeZoneFullName': 'America/Sao_Paulo', 'timeZoneShortName': 'BRT', 'uuid': '58a34cfc-f391-33b9-8e27-63c80348719f', 'messageBoardId': 'finmb_133921923', 'gmtOffSetMilliseconds': -10800000, 'currentPrice': 5.3, 'targetHighPrice': 8.0, 'targetLowPrice': 4.3, 'targetMeanPrice': 6.37, 'targetMedianPrice': 6.5, 'recommendationMean': 3.1, 'recommendationKey': 'hold', 'numberOfAnalystOpinions': 14, 'totalCash': 9808329728, 'totalCashPerShare': 1.788, 'ebitda': 6919098880, 'totalDebt': 8304018944, 'quickRatio': 1.936, 'currentRatio': 2.14, 'totalRevenue': 18880425984, 'debtToEquity': 77.617, 'revenuePerShare': 3.442, 'returnOnAssets': 0.13452, 'returnOnEquity': 0.32307997, 'freeCashflow': 4514074624, 'operatingCashflow': 8246363136, 'earningsGrowth': 0.559, 'revenueGrowth': 0.386, 'grossMargins': 0.47786, 'ebitdaMargins': 0.36646998, 'operatingMargins': 0.36038, 'financialCurrency': 'BRL', 'trailingPegRatio': None}\n"
     ]
    }
   ],
   "source": [
    "companies_list = [\n",
    "   \"AURA33.SA\",\n",
    "   \"BRAP4.SA\",\n",
    "   \"CBAV3.SA\",\n",
    "   \"CMIN3.SA\",\n",
    "   \"LTEL3B.SA\",\n",
    "   \"LTLA3B.SA\",\n",
    "   \"VALE3.SA\"\n",
    "]\n",
    "\n",
    "company_info = yf.Ticker(\"CMIN3.SA\")\n",
    "\n",
    "\n",
    "print(company_info.info)"
   ]
  }
 ],
 "metadata": {
  "kernelspec": {
   "display_name": ".venv",
   "language": "python",
   "name": "python3"
  },
  "language_info": {
   "codemirror_mode": {
    "name": "ipython",
    "version": 3
   },
   "file_extension": ".py",
   "mimetype": "text/x-python",
   "name": "python",
   "nbconvert_exporter": "python",
   "pygments_lexer": "ipython3",
   "version": "3.12.1"
  }
 },
 "nbformat": 4,
 "nbformat_minor": 2
}
